{
 "cells": [
  {
   "cell_type": "code",
   "execution_count": 4,
   "metadata": {},
   "outputs": [],
   "source": [
    "import torch\n",
    "import numpy as np"
   ]
  },
  {
   "cell_type": "markdown",
   "metadata": {},
   "source": [
    "### Initializing a Tensor"
   ]
  },
  {
   "cell_type": "code",
   "execution_count": 2,
   "metadata": {},
   "outputs": [],
   "source": [
    "#Directly from Data\n",
    "data = [[1, 2], [3, 4]]\n",
    "tensor_data = torch.tensor(data)"
   ]
  },
  {
   "cell_type": "code",
   "execution_count": 3,
   "metadata": {},
   "outputs": [
    {
     "data": {
      "text/plain": [
       "tensor([[1, 2],\n",
       "        [3, 4]])"
      ]
     },
     "execution_count": 3,
     "metadata": {},
     "output_type": "execute_result"
    }
   ],
   "source": [
    "tensor_data"
   ]
  },
  {
   "cell_type": "code",
   "execution_count": 5,
   "metadata": {},
   "outputs": [
    {
     "data": {
      "text/plain": [
       "tensor([[1, 2],\n",
       "        [3, 4]], dtype=torch.int32)"
      ]
     },
     "execution_count": 5,
     "metadata": {},
     "output_type": "execute_result"
    }
   ],
   "source": [
    "# From a numpy array\n",
    "np_array = np.array(data)\n",
    "tensor_np = torch.from_numpy(np_array)\n",
    "tensor_np"
   ]
  },
  {
   "cell_type": "code",
   "execution_count": 6,
   "metadata": {},
   "outputs": [
    {
     "data": {
      "text/plain": [
       "list"
      ]
     },
     "execution_count": 6,
     "metadata": {},
     "output_type": "execute_result"
    }
   ],
   "source": [
    "type(data)"
   ]
  },
  {
   "cell_type": "code",
   "execution_count": 7,
   "metadata": {},
   "outputs": [
    {
     "data": {
      "text/plain": [
       "torch.Tensor"
      ]
     },
     "execution_count": 7,
     "metadata": {},
     "output_type": "execute_result"
    }
   ],
   "source": [
    "type(tensor_data)"
   ]
  },
  {
   "cell_type": "code",
   "execution_count": 8,
   "metadata": {},
   "outputs": [
    {
     "data": {
      "text/plain": [
       "torch.Tensor"
      ]
     },
     "execution_count": 8,
     "metadata": {},
     "output_type": "execute_result"
    }
   ],
   "source": [
    "type(tensor_np)"
   ]
  },
  {
   "cell_type": "code",
   "execution_count": 10,
   "metadata": {},
   "outputs": [
    {
     "name": "stdout",
     "output_type": "stream",
     "text": [
      "Ones Tensor: \n",
      " tensor([[1, 1],\n",
      "        [1, 1]]) \n",
      "\n",
      "Random Tensor: \n",
      " tensor([[0.6027, 0.8321],\n",
      "        [0.7118, 0.6029]]) \n",
      "\n"
     ]
    }
   ],
   "source": [
    "# From another tensor\n",
    "\"\"\"\n",
    "In this case, the new tensor takes on the datatype and the shape of the augmented data.\n",
    "Those methods end with _like\n",
    "\"\"\"\n",
    "\n",
    "x_ones = torch.ones_like(tensor_data)\n",
    "print(f\"Ones Tensor: \\n {x_ones} \\n\")\n",
    "\n",
    "x_rand = torch.rand_like(tensor_data, dtype=torch.float)    # You can explicitly change the datatype of the output data\n",
    "print(f\"Random Tensor: \\n {x_rand} \\n\")"
   ]
  },
  {
   "cell_type": "code",
   "execution_count": 12,
   "metadata": {},
   "outputs": [
    {
     "name": "stdout",
     "output_type": "stream",
     "text": [
      "Random Tensor: \n",
      " tensor([[0.9736, 0.9135, 0.5466],\n",
      "        [0.8196, 0.3768, 0.9997]]) \n",
      "\n",
      "Ones Tensor: \n",
      " tensor([[1., 1., 1.],\n",
      "        [1., 1., 1.]]) \n",
      "\n",
      "Zeros Tensor: \n",
      " tensor([[0., 0., 0.],\n",
      "        [0., 0., 0.]])\n"
     ]
    }
   ],
   "source": [
    "# With random or constant values\n",
    "\"\"\"\n",
    "    You can also generate random or constant of any defined shape\n",
    "\"\"\"\n",
    "shape = (2,3,)\n",
    "rand_tensor = torch.rand(shape)\n",
    "ones_tensor = torch.ones(shape)\n",
    "zeros_tensor = torch.zeros(shape)\n",
    "\n",
    "print(f\"Random Tensor: \\n {rand_tensor} \\n\")\n",
    "print(f\"Ones Tensor: \\n {ones_tensor} \\n\")\n",
    "print(f\"Zeros Tensor: \\n {zeros_tensor}\")"
   ]
  },
  {
   "cell_type": "markdown",
   "metadata": {},
   "source": [
    "###  Attributes of a Tensor"
   ]
  },
  {
   "cell_type": "code",
   "execution_count": 14,
   "metadata": {},
   "outputs": [
    {
     "name": "stdout",
     "output_type": "stream",
     "text": [
      "Random Tensor: \n",
      " tensor([[0.0696, 0.2692, 0.6209, 0.4920, 0.9534, 0.8796],\n",
      "        [0.3083, 0.5643, 0.5334, 0.8294, 0.2133, 0.7177],\n",
      "        [0.0710, 0.2764, 0.9913, 0.5792, 0.7153, 0.3500],\n",
      "        [0.9031, 0.8311, 0.0100, 0.9639, 0.3960, 0.4438]]) \n",
      "\n",
      "Shape of tensor: torch.Size([4, 6])\n",
      "Datatype of tensor: torch.float32\n",
      "Device tensor is stored on: cpu\n"
     ]
    }
   ],
   "source": [
    "# Attributes of a Tensor\n",
    "\"\"\"\n",
    "    You can know the attributes of a tensor \n",
    "\"\"\"\n",
    "tensor = torch.rand(4,6)\n",
    "\n",
    "print(f\"Random Tensor: \\n {tensor} \\n\")\n",
    "print(f\"Shape of tensor: {tensor.shape}\")\n",
    "print(f\"Datatype of tensor: {tensor.dtype}\")\n",
    "print(f\"Device tensor is stored on: {tensor.device}\")"
   ]
  },
  {
   "cell_type": "markdown",
   "metadata": {},
   "source": [
    "### Operations on Tensors\n",
    "\n",
    "`There are several operations that can be performed on tensors. Including arithmetic, linear algebra, matrix manipulation (transposing, indexing, slicing), sampling, etc.`"
   ]
  },
  {
   "cell_type": "code",
   "execution_count": 16,
   "metadata": {},
   "outputs": [
    {
     "name": "stdout",
     "output_type": "stream",
     "text": [
      "Now running on GPU.......\n"
     ]
    }
   ],
   "source": [
    "# Moving the operations to GPU if it is available\n",
    "if torch.cuda.is_available():\n",
    "    tensor = tensor.to('cuda')\n",
    "    print(\"Now running on GPU.......\")"
   ]
  },
  {
   "cell_type": "code",
   "execution_count": 21,
   "metadata": {},
   "outputs": [
    {
     "name": "stdout",
     "output_type": "stream",
     "text": [
      "First Row:  tensor([1., 1., 3., 3., 1., 0.])\n",
      "First Column:  tensor([1., 1., 1., 1., 1., 4.])\n",
      "Last Row:  tensor([4., 4., 3., 3., 4., 0.])\n",
      "Last column:  tensor([0., 0., 0., 0., 0., 0.])\n",
      "tensor([[1., 1., 3., 3., 1., 0.],\n",
      "        [1., 1., 3., 3., 1., 0.],\n",
      "        [1., 1., 3., 3., 1., 0.],\n",
      "        [1., 1., 3., 3., 1., 0.],\n",
      "        [1., 1., 3., 3., 1., 0.],\n",
      "        [4., 4., 3., 3., 4., 0.]])\n"
     ]
    }
   ],
   "source": [
    "# Standard numpy-like indexing and slicing\n",
    "\n",
    "tensy = torch.ones(6, 6)\n",
    " \n",
    "tensy[5] = 4 # Set the last row to 5\n",
    "tensy[:, 2:4] = 3 # Set the third and fourth colums to 3\n",
    "tensy[..., -1] = 0 # Set the last column to zeros\n",
    "print(\"First Row: \", tensy[0])\n",
    "print(\"First Column: \", tensy[:,0])\n",
    "print(\"Last Row: \", tensy[-1])\n",
    "print(\"Last column: \", tensy[:, -1])\n",
    "print(tensy)"
   ]
  },
  {
   "cell_type": "code",
   "execution_count": null,
   "metadata": {},
   "outputs": [],
   "source": [
    "# Joining Tensors\n",
    "\n",
    "\"\"\"\n",
    "    You can use torch.cat and torch.stack to concatenate a sequence of tensors\n",
    "\"\"\"\n",
    "\n",
    "\"\"\"\n",
    "    By setting dim=1, the matrices are joined row by row so the row number remains the same.\n",
    "\"\"\"\n",
    "t1 = torch.cat([tensy, tensy, tensy, tensy], dim=1)\n",
    "print(f\"The output is: \\n {t1} \\n\")\n",
    "\n",
    "\n",
    "\"\"\"\n",
    "    By setting dim=0, the matrices will be joined column to column therefore the column number remains the same. \n",
    "\"\"\"\n",
    "t2 = torch.cat([tensy, tensy, tensy, tensy], dim=0)\n",
    "print(f\"The output is: \\n {t2} \\n\")\n",
    "\n",
    "\n",
    "# Stacking\n",
    "\"\"\"\n",
    "    This will create an array of matrices\n",
    "\"\"\"\n",
    "x1 = torch.stack([tensy, tensy, tensy, tensy], dim=0)\n",
    "print(f\"The output of stack is: \\n {x1} \\n\")\n",
    "\n",
    "x2 = torch.stack([tensy, tensy, tensy, tensy], dim=1)\n",
    "print(f\"The output of stack is: \\n {x2} \\n\")\n",
    "\n"
   ]
  },
  {
   "cell_type": "markdown",
   "metadata": {},
   "source": [
    "`Arithmetic Operations`"
   ]
  },
  {
   "cell_type": "code",
   "execution_count": 32,
   "metadata": {},
   "outputs": [
    {
     "name": "stdout",
     "output_type": "stream",
     "text": [
      "a: tensor([[2, 1],\n",
      "        [1, 2]])\n",
      "b: tensor([[5, 3, 1],\n",
      "        [3, 5, 1]])\n",
      "c: tensor([[13, 11,  3],\n",
      "        [11, 13,  3]])\n"
     ]
    }
   ],
   "source": [
    "#Using the @ operator for matrix multiplication\n",
    "\n",
    "a = torch.tensor([[2, 1], [1, 2]])\n",
    "b = torch.tensor([[5, 3, 1],[3, 5, 1]])\n",
    "c = a @ b\n",
    "print(f\"a: {a}\")\n",
    "print(f\"b: {b}\")\n",
    "print(f\"c: {c}\")"
   ]
  },
  {
   "cell_type": "code",
   "execution_count": 34,
   "metadata": {},
   "outputs": [
    {
     "name": "stdout",
     "output_type": "stream",
     "text": [
      "a: tensor([[2, 1],\n",
      "        [1, 2]])\n",
      "b: tensor([[5, 3, 1],\n",
      "        [3, 5, 1]])\n",
      "c: tensor([[13, 11,  3],\n",
      "        [11, 13,  3]])\n"
     ]
    }
   ],
   "source": [
    "# Using the matmul method for matrix multiplication\n",
    "\n",
    "a = torch.tensor([[2, 1], [1, 2]])\n",
    "b = torch.tensor([[5, 3, 1],[3, 5, 1]])\n",
    "c = torch.matmul(a, b)\n",
    "\n",
    "print(f\"a: {a}\")\n",
    "print(f\"b: {b}\")\n",
    "print(f\"c: {c}\")"
   ]
  },
  {
   "cell_type": "code",
   "execution_count": 36,
   "metadata": {},
   "outputs": [
    {
     "name": "stdout",
     "output_type": "stream",
     "text": [
      "a: tensor([[2, 1],\n",
      "        [1, 2]])\n",
      "b: tensor([[5, 3],\n",
      "        [3, 5]])\n",
      "c: tensor([[10,  3],\n",
      "        [ 3, 10]])\n"
     ]
    }
   ],
   "source": [
    "# Using the * for element wise multiplication\n",
    "\n",
    "\"\"\"\n",
    "    This is only feasible if the matrices have the same dimensions\n",
    "\"\"\"\n",
    "\n",
    "a = torch.tensor([[2, 1], [1, 2]])\n",
    "b = torch.tensor([[5, 3],[3, 5]])\n",
    "c = torch.mul(a, b)\n",
    "\n",
    "print(f\"a: {a}\")\n",
    "print(f\"b: {b}\")\n",
    "print(f\"c: {c}\")"
   ]
  },
  {
   "cell_type": "code",
   "execution_count": 49,
   "metadata": {},
   "outputs": [
    {
     "name": "stdout",
     "output_type": "stream",
     "text": [
      "a: tensor([[2., 1.],\n",
      "        [1., 2.]])\n",
      "b: tensor([[5., 3.],\n",
      "        [3., 5.]])\n",
      "c: tensor([[10.,  3.],\n",
      "        [ 3., 10.]])\n"
     ]
    }
   ],
   "source": [
    "# Using the mul for element wise multiplication\n",
    "\n",
    "\"\"\"\n",
    "    This is only feasible if the matrices have the same dimensions\n",
    "\"\"\"\n",
    "\n",
    "a = torch.tensor([[2, 1], [1, 2]], dtype=torch.float)\n",
    "b = torch.tensor([[5, 3],[3, 5]], dtype=torch.float)\n",
    "c = torch.mul(a, b)\n",
    "\n",
    "print(f\"a: {a}\")\n",
    "print(f\"b: {b}\")\n",
    "print(f\"c: {c}\")"
   ]
  },
  {
   "cell_type": "code",
   "execution_count": 51,
   "metadata": {},
   "outputs": [
    {
     "name": "stdout",
     "output_type": "stream",
     "text": [
      "tensor(6.5000)\n",
      "meany is of type: <class 'torch.Tensor'>\n",
      "6.5\n",
      "mean_num is of type: <class 'float'>\n"
     ]
    }
   ],
   "source": [
    "# The .item() function coverts a tensor scalar to a numpy scalar\n",
    "meany = torch.mean(c)\n",
    "mean_num = torch.mean(c).item()\n",
    "\n",
    "print(meany)\n",
    "print(f\"meany is of type: {type(meany)}\")\n",
    "print(mean_num)\n",
    "print(f\"mean_num is of type: {type(mean_num)}\")"
   ]
  },
  {
   "cell_type": "code",
   "execution_count": 50,
   "metadata": {},
   "outputs": [
    {
     "data": {
      "text/plain": [
       "tensor(6.5000)"
      ]
     },
     "execution_count": 50,
     "metadata": {},
     "output_type": "execute_result"
    }
   ],
   "source": [
    "\n",
    "torch.mean(c)"
   ]
  },
  {
   "cell_type": "markdown",
   "metadata": {},
   "source": [
    "### Brigde with NumPy\n",
    "\n",
    "Tensors on the CPU and NumPy arrays can share their underlying memory locations, and changing one will change the other"
   ]
  },
  {
   "cell_type": "code",
   "execution_count": 52,
   "metadata": {},
   "outputs": [],
   "source": [
    "tensor = tensor.to('cpu')"
   ]
  },
  {
   "cell_type": "markdown",
   "metadata": {},
   "source": [
    "`Tensor to NumPy Array`"
   ]
  },
  {
   "cell_type": "code",
   "execution_count": 53,
   "metadata": {},
   "outputs": [
    {
     "name": "stdout",
     "output_type": "stream",
     "text": [
      "t: tensor([1., 1., 1., 1., 1.])\n",
      "n: [1. 1. 1. 1. 1.]\n"
     ]
    }
   ],
   "source": [
    "t = torch.ones(5)\n",
    "print(f\"t: {t}\")\n",
    "n = t.numpy()\n",
    "print(f\"n: {n}\")"
   ]
  },
  {
   "cell_type": "code",
   "execution_count": 54,
   "metadata": {},
   "outputs": [
    {
     "name": "stdout",
     "output_type": "stream",
     "text": [
      "t: tensor([2., 2., 2., 2., 2.])\n",
      "n: [2. 2. 2. 2. 2.]\n"
     ]
    }
   ],
   "source": [
    "t.add_(1)\n",
    "print(f\"t: {t}\")\n",
    "print(f\"n: {n}\")"
   ]
  },
  {
   "cell_type": "markdown",
   "metadata": {},
   "source": [
    "`NumPy Array to Tensor`"
   ]
  },
  {
   "cell_type": "code",
   "execution_count": 56,
   "metadata": {},
   "outputs": [
    {
     "name": "stdout",
     "output_type": "stream",
     "text": [
      "n: [1. 1. 1. 1. 1.]\n",
      "t: tensor([1., 1., 1., 1., 1.], dtype=torch.float64)\n"
     ]
    }
   ],
   "source": [
    "n = np.ones(5)\n",
    "t = torch.from_numpy(n)   # converts numpy array to a tensor\n",
    "print(f\"n: {n}\")\n",
    "print(f\"t: {t}\")"
   ]
  },
  {
   "cell_type": "code",
   "execution_count": 57,
   "metadata": {},
   "outputs": [
    {
     "name": "stdout",
     "output_type": "stream",
     "text": [
      "t: tensor([2., 2., 2., 2., 2.], dtype=torch.float64)\n",
      "n: [2. 2. 2. 2. 2.]\n"
     ]
    }
   ],
   "source": [
    "np.add(n, 1, out=n)\n",
    "print(f\"t: {t}\")\n",
    "print(f\"n: {n}\")"
   ]
  }
 ],
 "metadata": {
  "kernelspec": {
   "display_name": "Python 3.9.4 64-bit",
   "language": "python",
   "name": "python3"
  },
  "language_info": {
   "codemirror_mode": {
    "name": "ipython",
    "version": 3
   },
   "file_extension": ".py",
   "mimetype": "text/x-python",
   "name": "python",
   "nbconvert_exporter": "python",
   "pygments_lexer": "ipython3",
   "version": "3.9.4"
  },
  "orig_nbformat": 4,
  "vscode": {
   "interpreter": {
    "hash": "11938c6bc6919ae2720b4d5011047913343b08a43b18698fd82dedb0d4417594"
   }
  }
 },
 "nbformat": 4,
 "nbformat_minor": 2
}
